{
 "cells": [
  {
   "cell_type": "code",
   "execution_count": 21,
   "metadata": {},
   "outputs": [],
   "source": [
    "import numpy as np\n",
    "import json\n",
    "import os, sys\n",
    "import matplotlib.pyplot as plt\n",
    "from PIL import Image\n",
    "%matplotlib inline\n",
    "\n",
    "sys.path.append('/code/pycococreator/')"
   ]
  },
  {
   "cell_type": "code",
   "execution_count": 22,
   "metadata": {},
   "outputs": [],
   "source": [
    "import shutil"
   ]
  },
  {
   "cell_type": "code",
   "execution_count": 23,
   "metadata": {},
   "outputs": [],
   "source": [
    "ROOT_DIR = os.path.abspath(\"../\")\n",
    "DATA_PATH = os.path.join(ROOT_DIR,'data/')"
   ]
  },
  {
   "cell_type": "code",
   "execution_count": 20,
   "metadata": {},
   "outputs": [],
   "source": [
    "imgs = []\n",
    "for directory in os.listdir(DATA_PATH):\n",
    "    dir_path = os.path.join(DATA_PATH,directory)\n",
    "    if not os.path.isdir(dir_path):\n",
    "        continue\n",
    "    imgs.extend([os.path.join(dir_path,img_name) for img_name in os.listdir(dir_path) if '_000_img' in img_name])\n",
    "    \n",
    "masks = [img_name[:-7]+ 'seg.png' for img_name in imgs]"
   ]
  },
  {
   "cell_type": "code",
   "execution_count": 136,
   "metadata": {},
   "outputs": [],
   "source": [
    "images_path = os.path.join(DATA_PATH,'images')\n",
    "masks_path = os.path.join(DATA_PATH,'masks')\n",
    "if not os.path.isdir(images_path):\n",
    "    os.mkdir(images_path)\n",
    "    os.mkdir(masks_path)\n",
    "\n",
    "for img,mask in zip(imgs,masks):\n",
    "    shutil.copyfile(img,os.path.join(images_path,img.split('/')[-1]))\n",
    "    shutil.copyfile(mask,os.path.join(masks_path,mask.split('/')[-1]))"
   ]
  },
  {
   "cell_type": "code",
   "execution_count": 146,
   "metadata": {},
   "outputs": [],
   "source": [
    "imgs_totag_path = os.path.join(images_path,'totag')\n",
    "masks_totag_path = os.path.join(masks_path,'totag')\n",
    "for img_path in os.listdir(imgs_totag_path):\n",
    "    mask_path = os.path.join(masks_path,img_path[:-7] + 'seg.png')\n",
    "    shutil.copyfile(mask_path,os.path.join(masks_totag_path,mask_path.split('/')[-1]))"
   ]
  },
  {
   "cell_type": "code",
   "execution_count": 147,
   "metadata": {},
   "outputs": [],
   "source": [
    "image_paths = [os.path.join(imgs_totag_path,img_path) for img_path in os.listdir(imgs_totag_path)]\n",
    "mask_paths = [os.path.join(masks_totag_path,img_path[:-7] + 'seg.png') for img_path in os.listdir(imgs_totag_path)]"
   ]
  },
  {
   "cell_type": "code",
   "execution_count": 160,
   "metadata": {},
   "outputs": [
    {
     "data": {
      "text/plain": [
       "['leaf00100_000_img.png,leaf00100_000_seg.png',\n",
       " 'leaf00033_000_img.png,leaf00033_000_seg.png',\n",
       " 'leaf00036_000_img.png,leaf00036_000_seg.png',\n",
       " 'leaf00029_000_img.png,leaf00029_000_seg.png',\n",
       " 'leaf00034_000_img.png,leaf00034_000_seg.png',\n",
       " 'leaf00078_000_img.png,leaf00078_000_seg.png',\n",
       " 'leaf00069_000_img.png,leaf00069_000_seg.png',\n",
       " 'leaf00001_000_img.png,leaf00001_000_seg.png',\n",
       " 'leaf00027_000_img.png,leaf00027_000_seg.png',\n",
       " 'leaf00045_000_img.png,leaf00045_000_seg.png',\n",
       " 'leaf00085_000_img.png,leaf00085_000_seg.png',\n",
       " 'leaf00081_000_img.png,leaf00081_000_seg.png',\n",
       " 'leaf00030_000_img.png,leaf00030_000_seg.png',\n",
       " 'leaf00032_000_img.png,leaf00032_000_seg.png',\n",
       " 'leaf00044_000_img.png,leaf00044_000_seg.png',\n",
       " 'leaf00046_000_img.png,leaf00046_000_seg.png',\n",
       " 'leaf00031_000_img.png,leaf00031_000_seg.png',\n",
       " 'leaf00002_000_img.png,leaf00002_000_seg.png',\n",
       " 'leaf00028_000_img.png,leaf00028_000_seg.png',\n",
       " 'leaf00043_000_img.png,leaf00043_000_seg.png',\n",
       " 'leaf00080_000_img.png,leaf00080_000_seg.png',\n",
       " 'leaf00040_000_img.png,leaf00040_000_seg.png',\n",
       " 'leaf00037_000_img.png,leaf00037_000_seg.png',\n",
       " 'leaf00084_000_img.png,leaf00084_000_seg.png',\n",
       " 'leaf00042_000_img.png,leaf00042_000_seg.png',\n",
       " 'leaf00068_000_img.png,leaf00068_000_seg.png',\n",
       " 'leaf00079_000_img.png,leaf00079_000_seg.png',\n",
       " 'leaf00038_000_img.png,leaf00038_000_seg.png',\n",
       " 'leaf00041_000_img.png,leaf00041_000_seg.png',\n",
       " 'leaf00077_000_img.png,leaf00077_000_seg.png']"
      ]
     },
     "execution_count": 160,
     "metadata": {},
     "output_type": "execute_result"
    }
   ],
   "source": [
    "\n",
    "['{},{}'.format(img.split('/')[-1],msk.split('/')[-1]) for img,msk in zip(image_paths,mask_paths)]"
   ]
  },
  {
   "cell_type": "code",
   "execution_count": 1,
   "metadata": {
    "scrolled": true
   },
   "outputs": [
    {
     "name": "stdout",
     "output_type": "stream",
     "text": [
      "Python 3.6.8\n",
      "No LSB modules are available.\n",
      "Distributor ID:\tUbuntu\n",
      "Description:\tUbuntu 18.04.3 LTS\n",
      "Release:\t18.04\n",
      "Codename:\tbionic\n"
     ]
    }
   ],
   "source": [
    "!python --version\n",
    "!lsb_release -a"
   ]
  },
  {
   "cell_type": "code",
   "execution_count": 134,
   "metadata": {},
   "outputs": [
    {
     "name": "stdout",
     "output_type": "stream",
     "text": [
      "20 ['/data/train/leaf00069_000_img.png', '/data/train/leaf00026_000_img.png', '/data/test/leaf00068_000_img.png', '/data/val/leaf00077_000_img.png', '/data/train/leaf00046_000_img.png', '/data/train/leaf00036_000_img.png', '/data/test/leaf00031_000_img.png', '/data/train/leaf00027_000_img.png', '/data/train/leaf00171_000_img.png', '/data/train/leaf00002_000_img.png', '/data/test/leaf00081_000_img.png', '/data/train/leaf00001_000_img.png', '/data/val/leaf00136_000_img.png', '/data/train/leaf00070_000_img.png', '/data/train/leaf00080_000_img.png', '/data/test/leaf00040_000_img.png', '/data/train/leaf00030_000_img.png', '/data/train/leaf00029_000_img.png', '/data/train/leaf00033_000_img.png', '/data/train/leaf00099_000_img.png']\n"
     ]
    }
   ],
   "source": [
    "totag.append(img_name)\n",
    "totag = list(set(totag))\n",
    "print(len(totag),totag[::-1])"
   ]
  },
  {
   "cell_type": "code",
   "execution_count": 69,
   "metadata": {},
   "outputs": [
    {
     "name": "stdout",
     "output_type": "stream",
     "text": [
      "8 ['/data/train/leaf00069_000_img.png', '/data/train/leaf00026_000_img.png', '/data/test/leaf00031_000_img.png', '/data/train/leaf00171_000_img.png', '/data/train/leaf00001_000_img.png', '/data/train/leaf00029_000_img.png', '/data/train/leaf00033_000_img.png', '/data/test/leaf00040_000_img.png']\n"
     ]
    }
   ],
   "source": [
    "len([n for n in ])"
   ]
  },
  {
   "cell_type": "code",
   "execution_count": 16,
   "metadata": {},
   "outputs": [
    {
     "name": "stdout",
     "output_type": "stream",
     "text": [
      "Cloning into '/code/pycococreator'...\n",
      "remote: Enumerating objects: 165, done.\u001b[K\n",
      "remote: Total 165 (delta 0), reused 0 (delta 0), pack-reused 165\u001b[K\n",
      "Receiving objects: 100% (165/165), 179.70 KiB | 265.00 KiB/s, done.\n",
      "Resolving deltas: 100% (74/74), done.\n"
     ]
    }
   ],
   "source": [
    "!git clone https://github.com/waspinator/pycococreator.git /code/pycococreator"
   ]
  },
  {
   "cell_type": "code",
   "execution_count": 17,
   "metadata": {},
   "outputs": [
    {
     "ename": "NameError",
     "evalue": "name 'os' is not defined",
     "output_type": "error",
     "traceback": [
      "\u001b[0;31m---------------------------------------------------------------------------\u001b[0m",
      "\u001b[0;31mNameError\u001b[0m                                 Traceback (most recent call last)",
      "\u001b[0;32m<ipython-input-17-fe998bb09c16>\u001b[0m in \u001b[0;36m<module>\u001b[0;34m\u001b[0m\n\u001b[0;32m----> 1\u001b[0;31m \u001b[0mos\u001b[0m\u001b[0;34m.\u001b[0m\u001b[0mpath\u001b[0m\u001b[0;34m.\u001b[0m\u001b[0madd\u001b[0m\u001b[0;34m(\u001b[0m\u001b[0;34m'/code/pycococreator/'\u001b[0m\u001b[0;34m)\u001b[0m\u001b[0;34m\u001b[0m\u001b[0;34m\u001b[0m\u001b[0m\n\u001b[0m",
      "\u001b[0;31mNameError\u001b[0m: name 'os' is not defined"
     ]
    }
   ],
   "source": []
  },
  {
   "cell_type": "code",
   "execution_count": null,
   "metadata": {},
   "outputs": [],
   "source": []
  }
 ],
 "metadata": {
  "kernelspec": {
   "display_name": "Python 3",
   "language": "python",
   "name": "python3"
  },
  "language_info": {
   "codemirror_mode": {
    "name": "ipython",
    "version": 3
   },
   "file_extension": ".py",
   "mimetype": "text/x-python",
   "name": "python",
   "nbconvert_exporter": "python",
   "pygments_lexer": "ipython3",
   "version": "3.6.8"
  }
 },
 "nbformat": 4,
 "nbformat_minor": 4
}
